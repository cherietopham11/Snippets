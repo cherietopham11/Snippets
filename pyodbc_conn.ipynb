{
 "metadata": {
  "language_info": {
   "codemirror_mode": {
    "name": "ipython",
    "version": 3
   },
   "file_extension": ".py",
   "mimetype": "text/x-python",
   "name": "python",
   "nbconvert_exporter": "python",
   "pygments_lexer": "ipython3",
   "version": "3.9.5"
  },
  "orig_nbformat": 2,
  "kernelspec": {
   "name": "python395jvsc74a57bd0ce1e901da04acbe50dd99cd0d91cb411cb2166c3507dec81ce620981a8df4741",
   "display_name": "Python 3.9.5 64-bit"
  },
  "metadata": {
   "interpreter": {
    "hash": "ce1e901da04acbe50dd99cd0d91cb411cb2166c3507dec81ce620981a8df4741"
   }
  }
 },
 "nbformat": 4,
 "nbformat_minor": 2,
 "cells": [
  {
   "cell_type": "code",
   "execution_count": 1,
   "metadata": {
    "tags": []
   },
   "outputs": [],
   "source": [
    "import pyodbc\n",
    "import time\n",
    "import numpy as pd\n",
    "import pandas as pd\n",
    "# %python3 -m pip install pyautogui\n",
    "# %python3 -m pip install tensorflow\n",
    "# %python3 -m pip install selenium"
   ]
  },
  {
   "cell_type": "code",
   "execution_count": 2,
   "metadata": {},
   "outputs": [],
   "source": [
    "from arcgis.gis import GIS"
   ]
  },
  {
   "cell_type": "code",
   "execution_count": 3,
   "metadata": {},
   "outputs": [],
   "source": [
    "cnxn = pyodbc.connect('DRIVER={ODBC Driver 17 for SQL Server};SERVER=DESKTOP-GRJ2O6R;DATABASE=AdventureWorksDW2019;Trusted_Connection=Yes;')"
   ]
  },
  {
   "cell_type": "code",
   "execution_count": 4,
   "metadata": {},
   "outputs": [
    {
     "output_type": "execute_result",
     "data": {
      "text/plain": [
       "   CurrencyKey  OrderQuantity  SalesAmount    TaxAmt  TotalProductCost  \\\n",
       "0          100              1     699.0982   55.9279          413.1463   \n",
       "1          100              1    3578.2700  286.2616         2171.2942   \n",
       "2          100              1    3578.2700  286.2616         2171.2942   \n",
       "3          100              1    3578.2700  286.2616         2171.2942   \n",
       "4          100              1    3578.2700  286.2616         2171.2942   \n",
       "\n",
       "    FirstName MiddleName  LastName  EnglishProductName  ProductKey  \\\n",
       "0       Ruben       None    Prasad  Road-650 Black, 62         336   \n",
       "1       Colin          G     Anand    Road-150 Red, 44         311   \n",
       "2       Kevin       None  Gonzalez    Road-150 Red, 44         311   \n",
       "3    Jeremiah          D  Martinez    Road-150 Red, 62         310   \n",
       "4  Alexandria          W    Hughes    Road-150 Red, 52         313   \n",
       "\n",
       "            City StateProvinceName  GeographyKey  CustomerKey  \n",
       "0  Beverly Hills        California           300        14501  \n",
       "1       Coronado        California           312        27645  \n",
       "2       Kirkland        Washington           623        27668  \n",
       "3        Ballard        Washington           607        27671  \n",
       "4    Lake Oswego            Oregon           542        27625  "
      ],
      "text/html": "<div>\n<style scoped>\n    .dataframe tbody tr th:only-of-type {\n        vertical-align: middle;\n    }\n\n    .dataframe tbody tr th {\n        vertical-align: top;\n    }\n\n    .dataframe thead th {\n        text-align: right;\n    }\n</style>\n<table border=\"1\" class=\"dataframe\">\n  <thead>\n    <tr style=\"text-align: right;\">\n      <th></th>\n      <th>CurrencyKey</th>\n      <th>OrderQuantity</th>\n      <th>SalesAmount</th>\n      <th>TaxAmt</th>\n      <th>TotalProductCost</th>\n      <th>FirstName</th>\n      <th>MiddleName</th>\n      <th>LastName</th>\n      <th>EnglishProductName</th>\n      <th>ProductKey</th>\n      <th>City</th>\n      <th>StateProvinceName</th>\n      <th>GeographyKey</th>\n      <th>CustomerKey</th>\n    </tr>\n  </thead>\n  <tbody>\n    <tr>\n      <th>0</th>\n      <td>100</td>\n      <td>1</td>\n      <td>699.0982</td>\n      <td>55.9279</td>\n      <td>413.1463</td>\n      <td>Ruben</td>\n      <td>None</td>\n      <td>Prasad</td>\n      <td>Road-650 Black, 62</td>\n      <td>336</td>\n      <td>Beverly Hills</td>\n      <td>California</td>\n      <td>300</td>\n      <td>14501</td>\n    </tr>\n    <tr>\n      <th>1</th>\n      <td>100</td>\n      <td>1</td>\n      <td>3578.2700</td>\n      <td>286.2616</td>\n      <td>2171.2942</td>\n      <td>Colin</td>\n      <td>G</td>\n      <td>Anand</td>\n      <td>Road-150 Red, 44</td>\n      <td>311</td>\n      <td>Coronado</td>\n      <td>California</td>\n      <td>312</td>\n      <td>27645</td>\n    </tr>\n    <tr>\n      <th>2</th>\n      <td>100</td>\n      <td>1</td>\n      <td>3578.2700</td>\n      <td>286.2616</td>\n      <td>2171.2942</td>\n      <td>Kevin</td>\n      <td>None</td>\n      <td>Gonzalez</td>\n      <td>Road-150 Red, 44</td>\n      <td>311</td>\n      <td>Kirkland</td>\n      <td>Washington</td>\n      <td>623</td>\n      <td>27668</td>\n    </tr>\n    <tr>\n      <th>3</th>\n      <td>100</td>\n      <td>1</td>\n      <td>3578.2700</td>\n      <td>286.2616</td>\n      <td>2171.2942</td>\n      <td>Jeremiah</td>\n      <td>D</td>\n      <td>Martinez</td>\n      <td>Road-150 Red, 62</td>\n      <td>310</td>\n      <td>Ballard</td>\n      <td>Washington</td>\n      <td>607</td>\n      <td>27671</td>\n    </tr>\n    <tr>\n      <th>4</th>\n      <td>100</td>\n      <td>1</td>\n      <td>3578.2700</td>\n      <td>286.2616</td>\n      <td>2171.2942</td>\n      <td>Alexandria</td>\n      <td>W</td>\n      <td>Hughes</td>\n      <td>Road-150 Red, 52</td>\n      <td>313</td>\n      <td>Lake Oswego</td>\n      <td>Oregon</td>\n      <td>542</td>\n      <td>27625</td>\n    </tr>\n  </tbody>\n</table>\n</div>"
     },
     "metadata": {},
     "execution_count": 4
    }
   ],
   "source": [
    "df = pd.read_sql(\"SELECT * FROM Report_InternetSales\", cnxn)\n",
    "df.head()"
   ]
  }
 ]
}